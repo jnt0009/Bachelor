{
 "cells": [
  {
   "cell_type": "markdown",
   "metadata": {},
   "source": [
    "# Scraping Subtitles from Hulu"
   ]
  },
  {
   "cell_type": "code",
   "execution_count": 1,
   "metadata": {},
   "outputs": [],
   "source": [
    "import pandas as pd\n",
    "import os\n",
    "from bs4 import BeautifulSoup\n",
    "from selenium import webdriver\n",
    "import csv\n",
    "import time\n",
    "\n",
    "EPISODE = 1 # CHANGE AS NECESSARY"
   ]
  },
  {
   "cell_type": "markdown",
   "metadata": {},
   "source": [
    "## Activate web-driver\n",
    "Login with your hulu credentials"
   ]
  },
  {
   "cell_type": "code",
   "execution_count": 2,
   "metadata": {},
   "outputs": [],
   "source": [
    "browser = webdriver.Chrome()\n",
    "url = 'https://www.hulu.com/'\n",
    "browser.get(url)"
   ]
  },
  {
   "cell_type": "markdown",
   "metadata": {},
   "source": [
    "## Run scrape\n",
    "Once the video begins playing (with subtitles running) run the code below."
   ]
  },
  {
   "cell_type": "code",
   "execution_count": 3,
   "metadata": {},
   "outputs": [],
   "source": [
    "a = []\n",
    "count = 0\n",
    "prev_subtitle = None\n",
    "while count < 7200: #5400:\n",
    "    tic = time.time()\n",
    "    html = browser.page_source\n",
    "    soup = BeautifulSoup(html)\n",
    "    subtitle = soup.find('div', {'class': 'caption-text-box'})\n",
    "    if not (subtitle is None):\n",
    "        subtitle = str(subtitle.p)[3:-4]\n",
    "        if subtitle != prev_subtitle:\n",
    "            with open('data/raw_episode{:02d}.txt'.format(EPISODE), 'a') as f:\n",
    "                f.write(subtitle)\n",
    "                f.write('\\n')\n",
    "                prev_subtitle = subtitle\n",
    "    count += 1\n",
    "    toc = time.time()\n",
    "    time.sleep(1 - (toc - tic)) # make sure 1 second between each scrape"
   ]
  },
  {
   "cell_type": "code",
   "execution_count": null,
   "metadata": {},
   "outputs": [],
   "source": []
  }
 ],
 "metadata": {
  "kernelspec": {
   "display_name": "Python 3",
   "language": "python",
   "name": "python3"
  },
  "language_info": {
   "codemirror_mode": {
    "name": "ipython",
    "version": 3
   },
   "file_extension": ".py",
   "mimetype": "text/x-python",
   "name": "python",
   "nbconvert_exporter": "python",
   "pygments_lexer": "ipython3",
   "version": "3.7.0"
  }
 },
 "nbformat": 4,
 "nbformat_minor": 2
}
